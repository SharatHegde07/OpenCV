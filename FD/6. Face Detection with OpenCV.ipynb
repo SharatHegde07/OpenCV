{
 "cells": [
  {
   "cell_type": "code",
   "execution_count": 1,
   "metadata": {},
   "outputs": [],
   "source": [
    "import cv2\n",
    "import numpy as np\n",
    "import os"
   ]
  },
  {
   "cell_type": "code",
   "execution_count": 2,
   "metadata": {},
   "outputs": [],
   "source": [
    "faceCascade = cv2.CascadeClassifier(cv2.data.haarcascades + 'haarcascade_frontalface_default.xml')"
   ]
  },
  {
   "cell_type": "code",
   "execution_count": 3,
   "metadata": {},
   "outputs": [],
   "source": [
    "def CreateDataSet():\n",
    "    cap = cv2.VideoCapture(0)\n",
    "    sample = 0\n",
    "    while True:\n",
    "        \n",
    "        _, img = cap.read()\n",
    "        if _:\n",
    "            imgGray = cv2.cvtColor(img, cv2.COLOR_BGR2GRAY)\n",
    "            faces = faceCascade.detectMultiScale(imgGray)\n",
    "            for x,y,w,h in faces:           \n",
    "                face = imgGray[y:y+h, x:x+w]\n",
    "                face = cv2.resize(face, (200, 200))\n",
    "                \n",
    "                cv2.imwrite(f'Images/test{sample}.jpg', face)\n",
    "                sample+=1\n",
    "                cv2.imshow('My-Face', face)\n",
    "                                  \n",
    "                                  \n",
    "        if sample == 50:\n",
    "            print('Sample Collected..You may Relax')\n",
    "            break\n",
    "                              \n",
    "        if cv2.waitKey(1) == 13:\n",
    "            break                 \n",
    "   \n",
    "    cap.release()\n",
    "    cv2.destroyAllWindows()\n",
    "    \n",
    "CreateDataSet()"
   ]
  },
  {
   "cell_type": "code",
   "execution_count": null,
   "metadata": {},
   "outputs": [],
   "source": [
    "### Training Model"
   ]
  },
  {
   "cell_type": "code",
   "execution_count": 3,
   "metadata": {},
   "outputs": [],
   "source": [
    "path = 'Images/'\n",
    "all_images = os.listdir(path)[:-1]\n",
    "\n",
    "Training_Data = []\n",
    "Labels = np.arange(1, len(all_images)+1)\n",
    "for i in all_images:\n",
    "    img_path = path + i\n",
    "    image = cv2.imread(img_path, 0)\n",
    "    Narray = np.asarray(image, dtype = np.uint8)\n",
    "    Training_Data.append(Narray)\n",
    "\n",
    "Face_Model = cv2.face_LBPHFaceRecognizer.create()\n",
    "Face_Model.train(Training_Data, Labels)\n",
    "print('TRAINING COMPLETE')\n",
    "    "
   ]
  },
  {
   "cell_type": "code",
   "execution_count": 7,
   "metadata": {},
   "outputs": [],
   "source": [
    "### Creating system"
   ]
  },
  {
   "cell_type": "code",
   "execution_count": null,
   "metadata": {},
   "outputs": [],
   "source": [
    "cap = cv2.VideoCapture(0)\n",
    "sample = 0\n",
    "while True:\n",
    "    _, img = cap.read()\n",
    "    if _:\n",
    "        imgGray = cv2.cvtColor(img, cv2.COLOR_BGR2GRAY)\n",
    "        faces = faceCascade.detectMultiScale(imgGray)\n",
    "        for x,y,w,h in faces:           \n",
    "            #img = cv2.rectangle(img, (x,y), (x+w, y+h), (255,0,0), 2)\n",
    "            face = imgGray[y:y+h, x:x+w]\n",
    "            face = cv2.resize(face, (200, 200))\n",
    "                \n",
    "     \n",
    "            pred = Face_Model.predict(face)\n",
    "            if pred[1]<50:\n",
    "            \n",
    "                img = cv2.putText(img, 'Sharat',(x, y-20), cv2.FONT_HERSHEY_COMPLEX, 0.9,(0,255,0), 2)\n",
    "                cv2.rectangle(img, (x,y), (x+w, y+h), (0,255,0), 2)\n",
    "            else:\n",
    "                img = cv2.putText(img, 'Unknown Face',(x, y-20), cv2.FONT_HERSHEY_COMPLEX, 0.9,(0,0,255), 2)\n",
    "                cv2.rectangle(img, (x,y), (x+w, y+h), (0,0,255), 2)\n",
    "            \n",
    "        cv2.imshow('Face', img)              \n",
    "        if cv2.waitKey(1) == 13:\n",
    "            break\n",
    "cap.release()\n",
    "cv2.destroyAllWindows()"
   ]
  },
  {
   "cell_type": "code",
   "execution_count": null,
   "metadata": {},
   "outputs": [],
   "source": []
  }
 ],
 "metadata": {
  "kernelspec": {
   "display_name": "Python 3",
   "language": "python",
   "name": "python3"
  },
  "language_info": {
   "codemirror_mode": {
    "name": "ipython",
    "version": 3
   },
   "file_extension": ".py",
   "mimetype": "text/x-python",
   "name": "python",
   "nbconvert_exporter": "python",
   "pygments_lexer": "ipython3",
   "version": "3.7.7"
  }
 },
 "nbformat": 4,
 "nbformat_minor": 4
}
